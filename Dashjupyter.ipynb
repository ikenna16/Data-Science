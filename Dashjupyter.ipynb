{
  "nbformat": 4,
  "nbformat_minor": 0,
  "metadata": {
    "colab": {
      "provenance": [],
      "authorship_tag": "ABX9TyOUMvftuQjCc8g4hrxAmfXI",
      "include_colab_link": true
    },
    "kernelspec": {
      "name": "python3",
      "display_name": "Python 3"
    },
    "language_info": {
      "name": "python"
    }
  },
  "cells": [
    {
      "cell_type": "markdown",
      "metadata": {
        "id": "view-in-github",
        "colab_type": "text"
      },
      "source": [
        "<a href=\"https://colab.research.google.com/github/ikenna16/Data-analysis/blob/main/Dashjupyter.ipynb\" target=\"_parent\"><img src=\"https://colab.research.google.com/assets/colab-badge.svg\" alt=\"Open In Colab\"/></a>"
      ]
    },
    {
      "cell_type": "code",
      "execution_count": 1,
      "metadata": {
        "colab": {
          "base_uri": "https://localhost:8080/"
        },
        "id": "PuMe7J1FP_RR",
        "outputId": "8f04379d-96da-43bb-9a25-d790eb3d8ea5"
      },
      "outputs": [
        {
          "output_type": "stream",
          "name": "stdout",
          "text": [
            "Looking in indexes: https://pypi.org/simple, https://us-python.pkg.dev/colab-wheels/public/simple/\n",
            "Collecting jupyter-dash\n",
            "  Downloading jupyter_dash-0.4.2-py3-none-any.whl (23 kB)\n",
            "Requirement already satisfied: ipython in /usr/local/lib/python3.8/dist-packages (from jupyter-dash) (7.9.0)\n",
            "Collecting ansi2html\n",
            "  Downloading ansi2html-1.8.0-py3-none-any.whl (16 kB)\n",
            "Requirement already satisfied: requests in /usr/local/lib/python3.8/dist-packages (from jupyter-dash) (2.25.1)\n",
            "Requirement already satisfied: flask in /usr/local/lib/python3.8/dist-packages (from jupyter-dash) (1.1.4)\n",
            "Collecting retrying\n",
            "  Downloading retrying-1.3.4-py3-none-any.whl (11 kB)\n",
            "Collecting nest-asyncio\n",
            "  Downloading nest_asyncio-1.5.6-py3-none-any.whl (5.2 kB)\n",
            "Requirement already satisfied: ipykernel in /usr/local/lib/python3.8/dist-packages (from jupyter-dash) (5.3.4)\n",
            "Collecting dash\n",
            "  Downloading dash-2.7.1-py3-none-any.whl (9.9 MB)\n",
            "\u001b[2K     \u001b[90m━━━━━━━━━━━━━━━━━━━━━━━━━━━━━━━━━━━━━━━━\u001b[0m \u001b[32m9.9/9.9 MB\u001b[0m \u001b[31m49.0 MB/s\u001b[0m eta \u001b[36m0:00:00\u001b[0m\n",
            "\u001b[?25hRequirement already satisfied: plotly>=5.0.0 in /usr/local/lib/python3.8/dist-packages (from dash->jupyter-dash) (5.5.0)\n",
            "Collecting dash-html-components==2.0.0\n",
            "  Downloading dash_html_components-2.0.0-py3-none-any.whl (4.1 kB)\n",
            "Collecting dash-table==5.0.0\n",
            "  Downloading dash_table-5.0.0-py3-none-any.whl (3.9 kB)\n",
            "Collecting dash-core-components==2.0.0\n",
            "  Downloading dash_core_components-2.0.0-py3-none-any.whl (3.8 kB)\n",
            "Requirement already satisfied: Jinja2<3.0,>=2.10.1 in /usr/local/lib/python3.8/dist-packages (from flask->jupyter-dash) (2.11.3)\n",
            "Requirement already satisfied: Werkzeug<2.0,>=0.15 in /usr/local/lib/python3.8/dist-packages (from flask->jupyter-dash) (1.0.1)\n",
            "Requirement already satisfied: click<8.0,>=5.1 in /usr/local/lib/python3.8/dist-packages (from flask->jupyter-dash) (7.1.2)\n",
            "Requirement already satisfied: itsdangerous<2.0,>=0.24 in /usr/local/lib/python3.8/dist-packages (from flask->jupyter-dash) (1.1.0)\n",
            "Requirement already satisfied: traitlets>=4.1.0 in /usr/local/lib/python3.8/dist-packages (from ipykernel->jupyter-dash) (5.7.1)\n",
            "Requirement already satisfied: tornado>=4.2 in /usr/local/lib/python3.8/dist-packages (from ipykernel->jupyter-dash) (6.0.4)\n",
            "Requirement already satisfied: jupyter-client in /usr/local/lib/python3.8/dist-packages (from ipykernel->jupyter-dash) (6.1.12)\n",
            "Requirement already satisfied: decorator in /usr/local/lib/python3.8/dist-packages (from ipython->jupyter-dash) (4.4.2)\n",
            "Requirement already satisfied: setuptools>=18.5 in /usr/local/lib/python3.8/dist-packages (from ipython->jupyter-dash) (57.4.0)\n",
            "Requirement already satisfied: prompt-toolkit<2.1.0,>=2.0.0 in /usr/local/lib/python3.8/dist-packages (from ipython->jupyter-dash) (2.0.10)\n",
            "Requirement already satisfied: pickleshare in /usr/local/lib/python3.8/dist-packages (from ipython->jupyter-dash) (0.7.5)\n",
            "Requirement already satisfied: backcall in /usr/local/lib/python3.8/dist-packages (from ipython->jupyter-dash) (0.2.0)\n",
            "Requirement already satisfied: pygments in /usr/local/lib/python3.8/dist-packages (from ipython->jupyter-dash) (2.6.1)\n",
            "Requirement already satisfied: pexpect in /usr/local/lib/python3.8/dist-packages (from ipython->jupyter-dash) (4.8.0)\n",
            "Collecting jedi>=0.10\n",
            "  Downloading jedi-0.18.2-py2.py3-none-any.whl (1.6 MB)\n",
            "\u001b[2K     \u001b[90m━━━━━━━━━━━━━━━━━━━━━━━━━━━━━━━━━━━━━━━━\u001b[0m \u001b[32m1.6/1.6 MB\u001b[0m \u001b[31m41.5 MB/s\u001b[0m eta \u001b[36m0:00:00\u001b[0m\n",
            "\u001b[?25hRequirement already satisfied: urllib3<1.27,>=1.21.1 in /usr/local/lib/python3.8/dist-packages (from requests->jupyter-dash) (1.24.3)\n",
            "Requirement already satisfied: chardet<5,>=3.0.2 in /usr/local/lib/python3.8/dist-packages (from requests->jupyter-dash) (4.0.0)\n",
            "Requirement already satisfied: certifi>=2017.4.17 in /usr/local/lib/python3.8/dist-packages (from requests->jupyter-dash) (2022.12.7)\n",
            "Requirement already satisfied: idna<3,>=2.5 in /usr/local/lib/python3.8/dist-packages (from requests->jupyter-dash) (2.10)\n",
            "Requirement already satisfied: six>=1.7.0 in /usr/local/lib/python3.8/dist-packages (from retrying->jupyter-dash) (1.15.0)\n",
            "Requirement already satisfied: parso<0.9.0,>=0.8.0 in /usr/local/lib/python3.8/dist-packages (from jedi>=0.10->ipython->jupyter-dash) (0.8.3)\n",
            "Requirement already satisfied: MarkupSafe>=0.23 in /usr/local/lib/python3.8/dist-packages (from Jinja2<3.0,>=2.10.1->flask->jupyter-dash) (2.0.1)\n",
            "Requirement already satisfied: tenacity>=6.2.0 in /usr/local/lib/python3.8/dist-packages (from plotly>=5.0.0->dash->jupyter-dash) (8.1.0)\n",
            "Requirement already satisfied: wcwidth in /usr/local/lib/python3.8/dist-packages (from prompt-toolkit<2.1.0,>=2.0.0->ipython->jupyter-dash) (0.2.5)\n",
            "Requirement already satisfied: python-dateutil>=2.1 in /usr/local/lib/python3.8/dist-packages (from jupyter-client->ipykernel->jupyter-dash) (2.8.2)\n",
            "Requirement already satisfied: jupyter-core>=4.6.0 in /usr/local/lib/python3.8/dist-packages (from jupyter-client->ipykernel->jupyter-dash) (5.1.3)\n",
            "Requirement already satisfied: pyzmq>=13 in /usr/local/lib/python3.8/dist-packages (from jupyter-client->ipykernel->jupyter-dash) (23.2.1)\n",
            "Requirement already satisfied: ptyprocess>=0.5 in /usr/local/lib/python3.8/dist-packages (from pexpect->ipython->jupyter-dash) (0.7.0)\n",
            "Requirement already satisfied: platformdirs>=2.5 in /usr/local/lib/python3.8/dist-packages (from jupyter-core>=4.6.0->jupyter-client->ipykernel->jupyter-dash) (2.6.2)\n",
            "Installing collected packages: dash-table, dash-html-components, dash-core-components, retrying, nest-asyncio, jedi, ansi2html, dash, jupyter-dash\n",
            "Successfully installed ansi2html-1.8.0 dash-2.7.1 dash-core-components-2.0.0 dash-html-components-2.0.0 dash-table-5.0.0 jedi-0.18.2 jupyter-dash-0.4.2 nest-asyncio-1.5.6 retrying-1.3.4\n"
          ]
        }
      ],
      "source": [
        "!pip install jupyter-dash"
      ]
    },
    {
      "cell_type": "code",
      "source": [
        "!pip install plotly==5.5.0"
      ],
      "metadata": {
        "colab": {
          "base_uri": "https://localhost:8080/"
        },
        "id": "-CPQLDQ_QH8c",
        "outputId": "046f38e8-69df-4ff6-af4e-28fb029ee400"
      },
      "execution_count": 2,
      "outputs": [
        {
          "output_type": "stream",
          "name": "stdout",
          "text": [
            "Looking in indexes: https://pypi.org/simple, https://us-python.pkg.dev/colab-wheels/public/simple/\n",
            "Requirement already satisfied: plotly==5.5.0 in /usr/local/lib/python3.8/dist-packages (5.5.0)\n",
            "Requirement already satisfied: tenacity>=6.2.0 in /usr/local/lib/python3.8/dist-packages (from plotly==5.5.0) (8.1.0)\n",
            "Requirement already satisfied: six in /usr/local/lib/python3.8/dist-packages (from plotly==5.5.0) (1.15.0)\n"
          ]
        }
      ]
    },
    {
      "cell_type": "code",
      "source": [
        "import pandas as pd\n",
        "import dash\n",
        "from dash import dcc\n",
        "from dash import html\n",
        "import plotly.express as px\n",
        "from dash.dependencies import Input, Output, State\n",
        "import plotly.graph_objects as go\n",
        "from dash import no_update"
      ],
      "metadata": {
        "id": "NWvthBhBQZVJ"
      },
      "execution_count": 3,
      "outputs": []
    },
    {
      "cell_type": "code",
      "source": [
        "airline_data = pd.read_csv('https://cf-courses-data.s3.us.cloud-object-storage.appdomain.cloud/IBMDeveloperSkillsNetwork-DV0101EN-SkillsNetwork/Data%20Files/airline_data.csv',\n",
        "                       encoding = 'ISO-8859-1',\n",
        "                       dtype={'Div1Airport': str, 'Div1TailNum': str, \n",
        "                              'Div2Airport': str, 'Div2TailNum': str})\n",
        "\n",
        "print('Data downloaded and read into a dataframe!')"
      ],
      "metadata": {
        "colab": {
          "base_uri": "https://localhost:8080/"
        },
        "id": "Y1ZYfJx4Q9XZ",
        "outputId": "c355464b-7c08-4a6d-c564-37528056cd77"
      },
      "execution_count": 4,
      "outputs": [
        {
          "output_type": "stream",
          "name": "stdout",
          "text": [
            "Data downloaded and read into a dataframe!\n"
          ]
        }
      ]
    },
    {
      "cell_type": "code",
      "source": [
        "from jupyter_dash import JupyterDash"
      ],
      "metadata": {
        "id": "uQiwdyIgROAi"
      },
      "execution_count": 5,
      "outputs": []
    },
    {
      "cell_type": "code",
      "source": [
        "app = JupyterDash(__name__)"
      ],
      "metadata": {
        "id": "NAhPSwvsRceu"
      },
      "execution_count": 6,
      "outputs": []
    },
    {
      "cell_type": "code",
      "source": [
        "year_list = [i for i in range(2005, 2021, 1)]"
      ],
      "metadata": {
        "id": "i52fv1SlRgrI"
      },
      "execution_count": 7,
      "outputs": []
    },
    {
      "cell_type": "code",
      "source": [
        "def compute_data_choice_1(df):\n",
        "    # Cancellation Category Count\n",
        "    bar_data = df.groupby(['Month','CancellationCode'])['Flights'].sum().reset_index()\n",
        "    # Average flight time by reporting airline\n",
        "    line_data = df.groupby(['Month','Reporting_Airline'])['AirTime'].mean().reset_index()\n",
        "    # Diverted Airport Landings\n",
        "    div_data = df[df['DivAirportLandings'] != 0.0]\n",
        "    # Source state count\n",
        "    map_data = df.groupby(['OriginState'])['Flights'].sum().reset_index()\n",
        "    # Destination state count\n",
        "    tree_data = df.groupby(['DestState', 'Reporting_Airline'])['Flights'].sum().reset_index()\n",
        "    return bar_data, line_data, div_data, map_data, tree_data"
      ],
      "metadata": {
        "id": "U8o4dEhCRmtq"
      },
      "execution_count": 8,
      "outputs": []
    },
    {
      "cell_type": "code",
      "source": [
        "def compute_data_choice_2(df):\n",
        "    # Compute delay averages\n",
        "    avg_car = df.groupby(['Month','Reporting_Airline'])['CarrierDelay'].mean().reset_index()\n",
        "    avg_weather = df.groupby(['Month','Reporting_Airline'])['WeatherDelay'].mean().reset_index()\n",
        "    avg_NAS = df.groupby(['Month','Reporting_Airline'])['NASDelay'].mean().reset_index()\n",
        "    avg_sec = df.groupby(['Month','Reporting_Airline'])['SecurityDelay'].mean().reset_index()\n",
        "    avg_late = df.groupby(['Month','Reporting_Airline'])['LateAircraftDelay'].mean().reset_index()\n",
        "    return avg_car, avg_weather, avg_NAS, avg_sec, avg_late"
      ],
      "metadata": {
        "id": "xCzqu7kbRtd4"
      },
      "execution_count": 9,
      "outputs": []
    },
    {
      "cell_type": "code",
      "source": [
        "app.layout = html.Div(children=[ \n",
        "                                # TASK1: Add title to the dashboard\n",
        "                                # Enter your code below. Make sure you have correct formatting.\n",
        "                                html.H1('US Domestic Airline Flights Performance', \n",
        "                                        style={'textAlign': 'center', 'color': '#503D36', 'font-size': 24}\n",
        "                                       ),\n",
        "    \n",
        "                                # REVIEW2: Dropdown creation\n",
        "                                # Create an outer division \n",
        "                                html.Div([\n",
        "                                    # Add an division\n",
        "                                    html.Div([\n",
        "                                        # Create an division for adding dropdown helper text for report type\n",
        "                                        html.Div(\n",
        "                                            [\n",
        "                                            html.H2('Report Type:', style={'margin-right': '2em'}),\n",
        "                                            ]\n",
        "                                        ),\n",
        "                                        # TASK2: Add a dropdown\n",
        "                                        # Enter your code below. Make sure you have correct formatting.\n",
        "                                        dcc.Dropdown(id='input-type', \n",
        "                                        options=[\n",
        "                                               {'label': 'Yearly Airline Performance Report', 'value': 'OPT1'},\n",
        "                                               {'label': 'Yearly Airline Delay Report', 'value': 'OPT2'}\n",
        "                                               ],\n",
        "                                        placeholder='Select a report type',\n",
        "                                        style={'width': '80%', 'padding': '3px', 'font-size': '20px', 'text-align-last':'center'})\n",
        "\n",
        "                                    # Place them next to each other using the division style\n",
        "                                    ], style={'display':'flex'}),\n",
        "                                    \n",
        "                                   # Add next division \n",
        "                                   html.Div([\n",
        "                                       # Create an division for adding dropdown helper text for choosing year\n",
        "                                        html.Div(\n",
        "                                            [\n",
        "                                            html.H2('Choose Year:', style={'margin-right': '2em'})\n",
        "                                            ]\n",
        "                                        ),\n",
        "                                        dcc.Dropdown(id='input-year', \n",
        "                                                     # Update dropdown values using list comphrehension\n",
        "                                                     options=[{'label': i, 'value': i} for i in year_list],\n",
        "                                                     placeholder=\"Select a year\",\n",
        "                                                     style={'width':'80%', 'padding':'3px', 'font-size': '20px', 'text-align-last' : 'center'}),\n",
        "                                            # Place them next to each other using the division style\n",
        "                                            ], style={'display': 'flex'}),  \n",
        "                                          ]),\n",
        "                                \n",
        "                                # Add Computed graphs\n",
        "                                # REVIEW3: Observe how we add an empty division and providing an id that will be updated during callback\n",
        "                                html.Div([ ], id='plot1'),\n",
        "    \n",
        "                                html.Div([\n",
        "                                        html.Div([ ], id='plot2'),\n",
        "                                        html.Div([ ], id='plot3')\n",
        "                                ], style={'display': 'flex'}),\n",
        "                                \n",
        "                                # TASK3: Add a division with two empty divisions inside. See above disvision for example.\n",
        "                                # Enter your code below. Make sure you have correct formatting.\n",
        "                                html.Div([\n",
        "                                        html.Div([ ], id='plot4'),\n",
        "                                        html.Div([ ], id='plot5')\n",
        "                                ], style={'display': 'flex'}),\n",
        "                               \n",
        "                                ])"
      ],
      "metadata": {
        "id": "F9ZWBDgHR1Q5"
      },
      "execution_count": 10,
      "outputs": []
    },
    {
      "cell_type": "code",
      "source": [
        "@app.callback( [Output(component_id='plot1', component_property='children'),\n",
        "               Output(component_id='plot2', component_property='children'),\n",
        "               Output(component_id='plot3', component_property='children'),\n",
        "               Output(component_id='plot4', component_property='children'),\n",
        "               Output(component_id='plot5', component_property='children')\n",
        "               ],\n",
        "               [Input(component_id='input-type', component_property='value'),\n",
        "                Input(component_id='input-year', component_property='value')],\n",
        "               # REVIEW4: Holding output state till user enters all the form information. In this case, it will be chart type and year\n",
        "               [State(\"plot1\", 'children'), State(\"plot2\", \"children\"),\n",
        "                State(\"plot3\", \"children\"), State(\"plot4\", \"children\"),\n",
        "                State(\"plot5\", \"children\")\n",
        "               ])\n",
        "# Add computation to callback function and return graph\n",
        "def get_graph(chart, year, children1, children2, c3, c4, c5):\n",
        "      \n",
        "        # Select data\n",
        "        df =  airline_data[airline_data['Year']==int(year)]\n",
        "       \n",
        "        if chart == 'OPT1':\n",
        "            # Compute required information for creating graph from the data\n",
        "            bar_data, line_data, div_data, map_data, tree_data = compute_data_choice_1(df)\n",
        "            \n",
        "            # Number of flights under different cancellation categories\n",
        "            bar_fig = px.bar(bar_data, x='Month', y='Flights', color='CancellationCode', title='Monthly Flight Cancellation')\n",
        "            \n",
        "            # TASK5: Average flight time by reporting airline\n",
        "            # Enter your code below. Make sure you have correct formatting.\n",
        "            line_fig = px.line(line_data, x='Month', y='AirTime', color='Reporting_Airline', title='Average monthly flight time (minutes) by airline')\n",
        "            \n",
        "            \n",
        "            # Percentage of diverted airport landings per reporting airline\n",
        "            pie_fig = px.pie(div_data, values='Flights', names='Reporting_Airline', title='% of flights by reporting airline')\n",
        "            \n",
        "            # REVIEW5: Number of flights flying from each state using choropleth\n",
        "            map_fig = px.choropleth(map_data,  # Input data\n",
        "                    locations='OriginState', \n",
        "                    color='Flights',  \n",
        "                    hover_data=['OriginState', 'Flights'], \n",
        "                    locationmode = 'USA-states', # Set to plot as US States\n",
        "                    color_continuous_scale='GnBu',\n",
        "                    range_color=[0, map_data['Flights'].max()]) \n",
        "            map_fig.update_layout(\n",
        "                    title_text = 'Number of flights from origin state', \n",
        "                    geo_scope='usa') # Plot only the USA instead of globe\n",
        "            \n",
        "            # TASK6: Number of flights flying to each state from each reporting airline\n",
        "            # Enter your code below. Make sure you have correct formatting.\n",
        "            tree_fig = px.treemap(tree_data, path=['DestState', 'Reporting_Airline'], \n",
        "                      values='Flights',\n",
        "                      color='Flights',\n",
        "                      color_continuous_scale='RdBu',\n",
        "                      title='Flight count by airline to destination state'\n",
        "                )\n",
        "            \n",
        "            \n",
        "            \n",
        "            # REVIEW6: Return dcc.Graph component to the empty division\n",
        "            return [dcc.Graph(figure=tree_fig), \n",
        "                    dcc.Graph(figure=pie_fig),\n",
        "                    dcc.Graph(figure=map_fig),\n",
        "                    dcc.Graph(figure=bar_fig),\n",
        "                    dcc.Graph(figure=line_fig)\n",
        "                   ]\n",
        "        else:\n",
        "            # REVIEW7: This covers chart type 2 and we have completed this exercise under Flight Delay Time Statistics Dashboard section\n",
        "            # Compute required information for creating graph from the data\n",
        "            avg_car, avg_weather, avg_NAS, avg_sec, avg_late = compute_data_choice_2(df)\n",
        "            \n",
        "            # Create graph\n",
        "            carrier_fig = px.line(avg_car, x='Month', y='CarrierDelay', color='Reporting_Airline', title='Average carrrier delay time (minutes) by airline')\n",
        "            weather_fig = px.line(avg_weather, x='Month', y='WeatherDelay', color='Reporting_Airline', title='Average weather delay time (minutes) by airline')\n",
        "            nas_fig = px.line(avg_NAS, x='Month', y='NASDelay', color='Reporting_Airline', title='Average NAS delay time (minutes) by airline')\n",
        "            sec_fig = px.line(avg_sec, x='Month', y='SecurityDelay', color='Reporting_Airline', title='Average security delay time (minutes) by airline')\n",
        "            late_fig = px.line(avg_late, x='Month', y='LateAircraftDelay', color='Reporting_Airline', title='Average late aircraft delay time (minutes) by airline')\n",
        "            \n",
        "            return[dcc.Graph(figure=carrier_fig), \n",
        "                   dcc.Graph(figure=weather_fig), \n",
        "                   dcc.Graph(figure=nas_fig), \n",
        "                   dcc.Graph(figure=sec_fig), \n",
        "                   dcc.Graph(figure=late_fig)]"
      ],
      "metadata": {
        "id": "wqyHLNwsR-US"
      },
      "execution_count": 11,
      "outputs": []
    },
    {
      "cell_type": "code",
      "source": [
        "app.run_server(mode='inline')"
      ],
      "metadata": {
        "colab": {
          "base_uri": "https://localhost:8080/",
          "height": 672
        },
        "id": "myBGK5IGSGmI",
        "outputId": "91edcb84-0d84-4343-8bbb-759cc815f738"
      },
      "execution_count": 12,
      "outputs": [
        {
          "output_type": "display_data",
          "data": {
            "text/plain": [
              "<IPython.core.display.Javascript object>"
            ],
            "application/javascript": [
              "(async (port, path, width, height, cache, element) => {\n",
              "    if (!google.colab.kernel.accessAllowed && !cache) {\n",
              "      return;\n",
              "    }\n",
              "    element.appendChild(document.createTextNode(''));\n",
              "    const url = await google.colab.kernel.proxyPort(port, {cache});\n",
              "    const iframe = document.createElement('iframe');\n",
              "    iframe.src = new URL(path, url).toString();\n",
              "    iframe.height = height;\n",
              "    iframe.width = width;\n",
              "    iframe.style.border = 0;\n",
              "    iframe.allow = [\n",
              "        'accelerometer',\n",
              "        'autoplay',\n",
              "        'camera',\n",
              "        'clipboard-read',\n",
              "        'clipboard-write',\n",
              "        'gyroscope',\n",
              "        'magnetometer',\n",
              "        'microphone',\n",
              "        'serial',\n",
              "        'usb',\n",
              "        'xr-spatial-tracking',\n",
              "    ].join('; ');\n",
              "    element.appendChild(iframe);\n",
              "  })(8050, \"/\", \"100%\", 650, false, window.element)"
            ]
          },
          "metadata": {}
        }
      ]
    },
    {
      "cell_type": "code",
      "source": [],
      "metadata": {
        "id": "J4y9MjAhhYdT"
      },
      "execution_count": 12,
      "outputs": []
    }
  ]
}